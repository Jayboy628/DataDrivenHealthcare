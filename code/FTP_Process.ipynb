{
 "cells": [
  {
   "cell_type": "markdown",
   "id": "879cc058-4948-4873-9933-69d112f92f5b",
   "metadata": {},
   "source": [
    "# SCRIPT\n",
    "### To automate a process that adds a timestamp, limits the rows in a DataFrame, and pushes the resulting data to another folder, you can use the following Python code:"
   ]
  },
  {
   "cell_type": "code",
   "execution_count": 2,
   "id": "30bcbe37-b412-44dd-b107-10351e5e7c5c",
   "metadata": {},
   "outputs": [],
   "source": [
    "# sheetname\n",
    "#sheetname = 'patient'\n",
    "\n",
    "#input_df = pd.read_excel('../Data/HealthData.xlsx',sheet_name=sheetname)\n",
    "\n",
    "#input_df.tail(20)"
   ]
  },
  {
   "cell_type": "code",
   "execution_count": null,
   "id": "591e2618-5b70-4114-b3df-33f1a88e4498",
   "metadata": {},
   "outputs": [],
   "source": [
    "input_df.shape"
   ]
  },
  {
   "cell_type": "code",
   "execution_count": null,
   "id": "bc5d221e-b5f9-4844-9ee1-dcf5c63dfd60",
   "metadata": {},
   "outputs": [],
   "source": [
    "# PK\n",
    "pk = 'pat_pk'\n",
    "row_limit = 5500  # Initial limit: 35 rows per file"
   ]
  },
  {
   "cell_type": "code",
   "execution_count": 1,
   "id": "90f11fca-c740-4105-9fb0-0aa408e81bcb",
   "metadata": {},
   "outputs": [
    {
     "name": "stdout",
     "output_type": "stream",
     "text": [
      "patient\n"
     ]
    }
   ],
   "source": [
    "# Name File\n",
    "filename = 'patient'\n",
    "print(filename)"
   ]
  },
  {
   "cell_type": "code",
   "execution_count": null,
   "id": "9b854356-8a4b-4784-99cf-1bc7c0a3c8a4",
   "metadata": {},
   "outputs": [],
   "source": [
    "import pandas as pd\n",
    "from datetime import datetime\n",
    "import os\n",
    "\n",
    "def send_slack_notification(message):\n",
    "    # Your send_slack_notification implementation here\n",
    "    pass\n",
    "\n",
    "def process_dataframe(df, row_limit, output_folder):\n",
    "    # Retrieve the last processed PK\n",
    "    last_processed_pk = -1\n",
    "    last_file = None\n",
    "    if os.path.exists(output_folder):\n",
    "        existing_files = [\n",
    "            file for file in os.listdir(output_folder)\n",
    "            if os.path.isfile(os.path.join(output_folder, file))\n",
    "        ]\n",
    "        if existing_files:\n",
    "            existing_files.sort()  # Sort files to ensure correct ordering\n",
    "            last_file = pd.read_csv(os.path.join(output_folder, existing_files[-1]))\n",
    "            last_processed_pk = last_file[pk].iloc[-1]\n",
    "\n",
    "    # Check if all rows have been processed\n",
    "    if last_processed_pk == df[pk].iloc[-1]:\n",
    "        print(\"All rows have been processed.\")\n",
    "        return\n",
    "\n",
    "    # Filter the DataFrame to exclude already processed rows\n",
    "    df_filtered = df[df[pk] > last_processed_pk]\n",
    "\n",
    "    # Calculate the number of rows to process in the current run\n",
    "    num_rows = len(df_filtered)\n",
    "    num_runs = (num_rows // row_limit) + 1\n",
    "\n",
    "    for i in range(num_runs):\n",
    "        # Calculate the starting and ending index for the current run\n",
    "        start_index = i * row_limit\n",
    "        end_index = min((i + 1) * row_limit, num_rows)\n",
    "\n",
    "        # Limit the number of rows in the DataFrame\n",
    "        df_limited = df_filtered.iloc[start_index:end_index]\n",
    "\n",
    "        # Create the output folder if it doesn't exist\n",
    "        if not os.path.exists(output_folder):\n",
    "            os.makedirs(output_folder)\n",
    "\n",
    "        # Generate the output file name\n",
    "        timestamp_str = datetime.now().strftime('%Y%m%d%H%M%S')\n",
    "        file_name = f\"{filename}_{timestamp_str}-{i+1}.csv\"\n",
    "        output_file = os.path.join(output_folder, file_name)\n",
    "\n",
    "        # Save the limited DataFrame to a CSV file with the index column included\n",
    "        df_limited.to_csv(output_file, index=False)\n",
    "        print(f\"Processed DataFrame saved to {output_file}\")\n",
    "\n",
    "        # Get file size\n",
    "        file_size = os.path.getsize(output_file)\n",
    "\n",
    "        # Create Slack notification message\n",
    "        message = f\"New file pushed to output folder:\\n\\nFile Name: {file_name}\\nFile Size: {file_size} bytes\\nDate/Time: {datetime.now()}\"\n",
    "\n",
    "        # Send Slack notification\n",
    "        send_slack_notification(message)\n",
    "\n",
    "# Example usage:\n",
    "# Assuming you have a DataFrame named \"input_df\" containing your data\n",
    "output_folder = \"../../process/\"  # Specify the output folder path\n",
    "process_dataframe(input_df.copy(), row_limit, output_folder)\n"
   ]
  }
 ],
 "metadata": {
  "kernelspec": {
   "display_name": "Python 3 (ipykernel)",
   "language": "python",
   "name": "python3"
  },
  "language_info": {
   "codemirror_mode": {
    "name": "ipython",
    "version": 3
   },
   "file_extension": ".py",
   "mimetype": "text/x-python",
   "name": "python",
   "nbconvert_exporter": "python",
   "pygments_lexer": "ipython3",
   "version": "3.9.10"
  }
 },
 "nbformat": 4,
 "nbformat_minor": 5
}
