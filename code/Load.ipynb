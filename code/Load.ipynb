{
 "cells": [
  {
   "cell_type": "code",
   "execution_count": 18,
   "id": "c486207a-6e78-4162-8e92-d63b8ff4e27f",
   "metadata": {},
   "outputs": [
    {
     "name": "stdout",
     "output_type": "stream",
     "text": [
      "╒════════════╤═══════════════════╤═══════════════════════════════════════════════════╤════════════════════╕\n",
      "│   trans_pk │ transactiontype   │ transaction                                       │ adjustmentreason   │\n",
      "╞════════════╪═══════════════════╪═══════════════════════════════════════════════════╪════════════════════╡\n",
      "│      45842 │ Charge            │ ppps, initial visit                               │ Charge             │\n",
      "├────────────┼───────────────────┼───────────────────────────────────────────────────┼────────────────────┤\n",
      "│      45873 │ Charge            │ pr diagnostic mammography computer-aided detcj bi │ Charge             │\n",
      "├────────────┼───────────────────┼───────────────────────────────────────────────────┼────────────────────┤\n",
      "│      45874 │ Charge            │ Eardrum Opening                                   │ Charge             │\n",
      "├────────────┼───────────────────┼───────────────────────────────────────────────────┼────────────────────┤\n",
      "│      45888 │ Charge            │ e&m estb detailed/mod                             │ Charge             │\n",
      "├────────────┼───────────────────┼───────────────────────────────────────────────────┼────────────────────┤\n",
      "│      45889 │ Charge            │ x-ray ankle 3+ vw                                 │ Charge             │\n",
      "├────────────┼───────────────────┼───────────────────────────────────────────────────┼────────────────────┤\n",
      "│      45945 │ Charge            │ repair ing hernia,5+y/o,reducibl                  │ Charge             │\n",
      "├────────────┼───────────────────┼───────────────────────────────────────────────────┼────────────────────┤\n",
      "│      45950 │ Adjustment        │ contractual/differential w/o                      │ Contractual        │\n",
      "├────────────┼───────────────────┼───────────────────────────────────────────────────┼────────────────────┤\n",
      "│      45979 │ Charge            │ ct scan of abdomen contrast                       │ Charge             │\n",
      "├────────────┼───────────────────┼───────────────────────────────────────────────────┼────────────────────┤\n",
      "│      45986 │ Charge            │ mr angio, neck, combo                             │ Charge             │\n",
      "├────────────┼───────────────────┼───────────────────────────────────────────────────┼────────────────────┤\n",
      "│      45999 │ Charge            │ hosp discharge day mgmt 30 or <                   │ Charge             │\n",
      "╘════════════╧═══════════════════╧═══════════════════════════════════════════════════╧════════════════════╛\n",
      "PostgreSQL connection is closed\n"
     ]
    }
   ],
   "source": [
    "import psycopg2\n",
    "from psycopg2 import Error\n",
    "from tabulate import tabulate\n",
    "\n",
    "try:\n",
    "    # Connect to an existing database\n",
    "    connection = psycopg2.connect(user=\"postgres\",\n",
    "                                  password=\"@Postdb22!\",\n",
    "                                  host=\"127.0.0.1\",\n",
    "                                  port=\"5432\",\n",
    "                                  database=\"health_db\")\n",
    "\n",
    "    # Create a cursor to perform database operations\n",
    "    cursor = connection.cursor()\n",
    "\n",
    "    # Executing a SQL query\n",
    "    table_name = \"charge\"\n",
    "    try:\n",
    "        cursor.execute(f\"SELECT * FROM {table_name} LIMIT 10;\")\n",
    "    except psycopg2.Error as e:\n",
    "        print(\"Error: SELECT *\")\n",
    "        print(e)\n",
    "\n",
    "    # Fetch the column names from the cursor description\n",
    "    column_names = [desc[0] for desc in cursor.description]\n",
    "\n",
    "    # Fetch the table rows\n",
    "    rows = cursor.fetchall()\n",
    "\n",
    "    # Format the data as a table\n",
    "    table = [column_names] + rows\n",
    "    table_formatted = tabulate(table, headers=\"firstrow\", tablefmt=\"fancy_grid\")\n",
    "\n",
    "    # Print the formatted table\n",
    "    print(table_formatted)\n",
    "\n",
    "except (Exception, Error) as error:\n",
    "    print(\"Error while connecting to PostgreSQL:\", error)\n",
    "\n",
    "finally:\n",
    "    if connection:\n",
    "        cursor.close()\n",
    "        connection.close()\n",
    "        print(\"PostgreSQL connection is closed\")\n"
   ]
  },
  {
   "cell_type": "code",
   "execution_count": null,
   "id": "1df610d1-c553-4160-9a6b-c1719b2e14b8",
   "metadata": {},
   "outputs": [],
   "source": []
  }
 ],
 "metadata": {
  "kernelspec": {
   "display_name": "Python 3 (ipykernel)",
   "language": "python",
   "name": "python3"
  },
  "language_info": {
   "codemirror_mode": {
    "name": "ipython",
    "version": 3
   },
   "file_extension": ".py",
   "mimetype": "text/x-python",
   "name": "python",
   "nbconvert_exporter": "python",
   "pygments_lexer": "ipython3",
   "version": "3.9.10"
  }
 },
 "nbformat": 4,
 "nbformat_minor": 5
}
